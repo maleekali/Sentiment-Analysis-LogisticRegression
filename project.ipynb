{
 "cells": [
  {
   "cell_type": "code",
   "execution_count": null,
   "metadata": {},
   "outputs": [
    {
     "name": "stderr",
     "output_type": "stream",
     "text": [
      "[nltk_data] Downloading package stopwords to\n",
      "[nltk_data]     C:\\Users\\maleek\\AppData\\Roaming\\nltk_data...\n",
      "[nltk_data]   Package stopwords is already up-to-date!\n",
      "[nltk_data] Downloading package punkt_tab to\n",
      "[nltk_data]     C:\\Users\\maleek\\AppData\\Roaming\\nltk_data...\n",
      "[nltk_data]   Package punkt_tab is already up-to-date!\n"
     ]
    }
   ],
   "source": [
    "import os\n",
    "import random\n",
    "import numpy as np\n",
    "import nltk\n",
    "from nltk.corpus import stopwords\n",
    "from nltk import word_tokenize\n",
    "from string import punctuation\n",
    "from sklearn.feature_extraction.text import TfidfVectorizer\n",
    "from sklearn.linear_model import LogisticRegression\n",
    "from sklearn.metrics import accuracy_score\n",
    "nltk.download('stopwords')\n",
    "nltk.download('punkt_tab')\n",
    "\n",
    "# --- آماده‌سازی داده‌ها ---\n",
    "def load_documents(folder):\n",
    "    docs = []\n",
    "    stop_words = set(stopwords.words('english'))\n",
    "    translator = str.maketrans('', '', punctuation)\n",
    "    \n",
    "    for file in os.listdir(folder):\n",
    "        with open(os.path.join(folder, file), encoding='utf-8') as f:\n",
    "            tokens = word_tokenize(f.read())\n",
    "            tokens = [w.translate(translator) for w in tokens if w.lower() not in stop_words]\n",
    "            docs.append(' '.join(tokens))\n",
    "    return docs\n",
    "\n",
    "neg_docs = load_documents('data/neg')\n",
    "pos_docs = load_documents('data/pos')\n",
    "\n",
    "# --- تقسیم داده‌ها ---\n",
    "random.shuffle(neg_docs)\n",
    "random.shuffle(pos_docs)\n",
    "\n",
    "X_train = neg_docs[:800] + pos_docs[:800]\n",
    "y_train = [0]*800 + [1]*800\n",
    "\n",
    "X_test = neg_docs[800:] + pos_docs[800:]\n",
    "y_test = [0]*200 + [1]*200\n",
    "\n",
    "# --- بردار TF-IDF و آموزش مدل ---\n",
    "vectorizer = TfidfVectorizer(max_features=10000)\n",
    "X_train_vec = vectorizer.fit_transform(X_train)\n",
    "X_test_vec = vectorizer.transform(X_test)\n",
    "\n",
    "model = LogisticRegression()\n",
    "model.fit(X_train_vec, y_train)\n",
    "\n",
    "# --- ارزیابی ---\n",
    "y_pred = model.predict(X_test_vec)\n",
    "print(\"Test Accuracy:\", round(accuracy_score(y_test, y_pred)*100, 2), \"%\")\n",
    "\n",
    "# --- پیش‌بینی نمونه ---\n",
    "sample = vectorizer.transform([\"this product is terrible and I hate it\"])\n",
    "prediction = model.predict(sample)[0]\n",
    "\n",
    "if prediction == 0:\n",
    "    print(\"نتیجه شد 0 → نظر منفی است ❌\")\n",
    "else:\n",
    "    print(\"نتیجه شد 1 → نظر مثبت است ✅\")\n",
    "\n"
   ]
  }
 ],
 "metadata": {
  "kernelspec": {
   "display_name": "Python 3 (ipykernel)",
   "language": "python",
   "name": "python3"
  },
  "language_info": {
   "codemirror_mode": {
    "name": "ipython",
    "version": 3
   },
   "file_extension": ".py",
   "mimetype": "text/x-python",
   "name": "python",
   "nbconvert_exporter": "python",
   "pygments_lexer": "ipython3",
   "version": "3.13.5"
  }
 },
 "nbformat": 4,
 "nbformat_minor": 4
}
